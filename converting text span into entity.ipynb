{
 "cells": [
  {
   "cell_type": "code",
   "execution_count": 1,
   "id": "f3a9c7e1",
   "metadata": {},
   "outputs": [
    {
     "name": "stderr",
     "output_type": "stream",
     "text": [
      "/Users/mohammed.jabir/Desktop/code/env/lib/python3.9/site-packages/tqdm/auto.py:22: TqdmWarning: IProgress not found. Please update jupyter and ipywidgets. See https://ipywidgets.readthedocs.io/en/stable/user_install.html\n",
      "  from .autonotebook import tqdm as notebook_tqdm\n"
     ]
    }
   ],
   "source": [
    "from datasets import load_dataset"
   ]
  },
  {
   "cell_type": "code",
   "execution_count": 2,
   "id": "a7f42c09",
   "metadata": {},
   "outputs": [
    {
     "name": "stderr",
     "output_type": "stream",
     "text": [
      "Found cached dataset drugprot (/Users/mohammed.jabir/.cache/huggingface/datasets/bigbio___drugprot/drugprot_bigbio_kb/1.0.0/b8862a4fb4801918002f3e66268f4a58377751de46c9b2b1fc43df10d242d3e7)\n",
      "100%|████████████████████████████████████████████| 2/2 [00:00<00:00, 192.59it/s]\n"
     ]
    },
    {
     "data": {
      "text/plain": [
       "DatasetDict({\n",
       "    train: Dataset({\n",
       "        features: ['id', 'document_id', 'passages', 'entities', 'events', 'coreferences', 'relations'],\n",
       "        num_rows: 3500\n",
       "    })\n",
       "    validation: Dataset({\n",
       "        features: ['id', 'document_id', 'passages', 'entities', 'events', 'coreferences', 'relations'],\n",
       "        num_rows: 750\n",
       "    })\n",
       "})"
      ]
     },
     "execution_count": 2,
     "metadata": {},
     "output_type": "execute_result"
    }
   ],
   "source": [
    "data = load_dataset('bigbio/drugprot','drugprot_bigbio_kb')\n",
    "data"
   ]
  },
  {
   "cell_type": "code",
   "execution_count": 3,
   "id": "4bb0c435",
   "metadata": {},
   "outputs": [
    {
     "data": {
      "text/plain": [
       "[{'id': Value(dtype='string', id=None),\n",
       "  'type': Value(dtype='string', id=None),\n",
       "  'text': Sequence(feature=Value(dtype='string', id=None), length=-1, id=None),\n",
       "  'offsets': Sequence(feature=[Value(dtype='int32', id=None)], length=-1, id=None),\n",
       "  'normalized': [{'db_name': Value(dtype='string', id=None),\n",
       "    'db_id': Value(dtype='string', id=None)}]}]"
      ]
     },
     "execution_count": 3,
     "metadata": {},
     "output_type": "execute_result"
    }
   ],
   "source": [
    "data['train'].features[\"entities\"]"
   ]
  },
  {
   "cell_type": "markdown",
   "id": "00bf6ce4",
   "metadata": {},
   "source": [
    "## Single data"
   ]
  },
  {
   "cell_type": "markdown",
   "id": "743c79ff",
   "metadata": {},
   "source": [
    "### Using NLTK"
   ]
  },
  {
   "cell_type": "code",
   "execution_count": 4,
   "id": "57e8f30c",
   "metadata": {},
   "outputs": [
    {
     "data": {
      "text/plain": [
       "\"RDH12, a retinol dehydrogenase causing Leber's congenital amaurosis, is also involved in steroid metabolism. Three retinol dehydrogenases (RDHs) were tested for steroid converting abilities: human and murine RDH 12 and human RDH13. RDH12 is involved in retinal degeneration in Leber's congenital amaurosis (LCA). We show that murine Rdh12 and human RDH13 do not reveal activity towards the checked steroids, but that human type 12 RDH reduces dihydrotestosterone to androstanediol, and is thus also involved in steroid metabolism. Furthermore, we analyzed both expression and subcellular localization of these enzymes. \""
      ]
     },
     "execution_count": 4,
     "metadata": {},
     "output_type": "execute_result"
    }
   ],
   "source": [
    "txt=''\n",
    "for x in data['train'][0]['passages']:\n",
    "    for j in x['text']:\n",
    "        txt+=j+' '\n",
    "txt"
   ]
  },
  {
   "cell_type": "code",
   "execution_count": 72,
   "id": "feaa388f",
   "metadata": {},
   "outputs": [],
   "source": [
    "from nltk.tokenize import TreebankWordTokenizer as twt\n",
    "spans_txt = twt().span_tokenize(txt)"
   ]
  },
  {
   "cell_type": "code",
   "execution_count": 59,
   "id": "a9e1bd3c",
   "metadata": {},
   "outputs": [],
   "source": [
    "entities = [None]*len(list(spans_txt))"
   ]
  },
  {
   "cell_type": "code",
   "execution_count": 75,
   "id": "067331da",
   "metadata": {
    "scrolled": true
   },
   "outputs": [],
   "source": [
    "start={}\n",
    "end ={}\n",
    "\n",
    "for idx ,sp in enumerate(spans_txt):\n",
    "    start[sp[0]]=idx\n",
    "    end[sp[1]]=idx"
   ]
  },
  {
   "cell_type": "code",
   "execution_count": 77,
   "id": "0fc3c25f",
   "metadata": {},
   "outputs": [],
   "source": [
    "ents =[]\n",
    "for key , val in data['train'][0].items():\n",
    "    if key == 'entities':\n",
    "        for item in data['train'][0]['entities']:\n",
    "            ent=[]\n",
    "            ent.append(item['type'])\n",
    "#             for t in item['text']:\n",
    "#                 ent.append(t)\n",
    "            for of in item['offsets']:\n",
    "                for f in of :\n",
    "                    ent.append(f)\n",
    "            ents.append(ent)"
   ]
  },
  {
   "cell_type": "code",
   "execution_count": 78,
   "id": "140d709d",
   "metadata": {},
   "outputs": [
    {
     "data": {
      "text/plain": [
       "[['CHEMICAL', 466, 480],\n",
       " ['CHEMICAL', 115, 122],\n",
       " ['CHEMICAL', 9, 16],\n",
       " ['GENE-Y', 219, 230],\n",
       " ['GENE-Y', 232, 237],\n",
       " ['GENE-Y', 326, 338],\n",
       " ['GENE-Y', 343, 354],\n",
       " ['GENE-N', 139, 143],\n",
       " ['GENE-Y', 417, 434],\n",
       " ['GENE-N', 115, 137],\n",
       " ['GENE-N', 191, 214],\n",
       " ['GENE-Y', 0, 5],\n",
       " ['GENE-N', 9, 30]]"
      ]
     },
     "execution_count": 78,
     "metadata": {},
     "output_type": "execute_result"
    }
   ],
   "source": [
    "ents"
   ]
  },
  {
   "cell_type": "code",
   "execution_count": 79,
   "id": "bb24b580",
   "metadata": {},
   "outputs": [],
   "source": [
    "for label , start_char , end_char in ents:\n",
    "    start_token = start.get(start_char)\n",
    "    end_token = end.get(end_char)\n",
    "    if start_token is not None and end_token is not None:\n",
    "        if start_token == end_token:\n",
    "            entities[start_token] = f\"B-{label}\"\n",
    "        else:\n",
    "            entities[start_token] = f\"B-{label}\"\n",
    "            for i in range(start_token + 1, end_token):\n",
    "                entities[i] = f\"I-{label}\"\n",
    "            entities[end_token] = f\"I-{label}\""
   ]
  },
  {
   "cell_type": "code",
   "execution_count": 80,
   "id": "623b4ecf",
   "metadata": {},
   "outputs": [],
   "source": [
    "for idx , e in enumerate(entities):\n",
    "    if e ==None:\n",
    "        entities[idx]='o'"
   ]
  },
  {
   "cell_type": "code",
   "execution_count": 81,
   "id": "61073765",
   "metadata": {},
   "outputs": [],
   "source": [
    "for sp , ent in zip(spans_txt,entities):\n",
    "    print(txt[sp[0]:sp[1]] , ent)"
   ]
  },
  {
   "cell_type": "code",
   "execution_count": 82,
   "id": "592e5f3e",
   "metadata": {},
   "outputs": [
    {
     "data": {
      "text/plain": [
       "['o',\n",
       " 'o',\n",
       " 'B-GENE-N',\n",
       " 'I-GENE-N',\n",
       " 'o',\n",
       " 'o',\n",
       " 'o',\n",
       " 'o',\n",
       " 'o',\n",
       " 'o',\n",
       " 'o',\n",
       " 'o',\n",
       " 'o',\n",
       " 'o',\n",
       " 'o',\n",
       " 'o',\n",
       " 'o',\n",
       " 'B-GENE-N',\n",
       " 'I-GENE-N',\n",
       " 'o',\n",
       " 'B-GENE-N',\n",
       " 'o',\n",
       " 'o',\n",
       " 'o',\n",
       " 'o',\n",
       " 'o',\n",
       " 'o',\n",
       " 'o',\n",
       " 'o',\n",
       " 'B-GENE-N',\n",
       " 'I-GENE-N',\n",
       " 'I-GENE-N',\n",
       " 'I-GENE-N',\n",
       " 'I-GENE-N',\n",
       " 'o',\n",
       " 'o',\n",
       " 'o',\n",
       " 'B-GENE-Y',\n",
       " 'o',\n",
       " 'o',\n",
       " 'o',\n",
       " 'o',\n",
       " 'o',\n",
       " 'o',\n",
       " 'o',\n",
       " 'o',\n",
       " 'o',\n",
       " 'o',\n",
       " 'o',\n",
       " 'o',\n",
       " 'o',\n",
       " 'o',\n",
       " 'o',\n",
       " 'o',\n",
       " 'o',\n",
       " 'B-GENE-Y',\n",
       " 'I-GENE-Y',\n",
       " 'o',\n",
       " 'B-GENE-Y',\n",
       " 'I-GENE-Y',\n",
       " 'o',\n",
       " 'o',\n",
       " 'o',\n",
       " 'o',\n",
       " 'o',\n",
       " 'o',\n",
       " 'o',\n",
       " 'o',\n",
       " 'o',\n",
       " 'o',\n",
       " 'o',\n",
       " 'B-GENE-Y',\n",
       " 'I-GENE-Y',\n",
       " 'I-GENE-Y',\n",
       " 'I-GENE-Y',\n",
       " 'o',\n",
       " 'o',\n",
       " 'o',\n",
       " 'B-CHEMICAL',\n",
       " 'o',\n",
       " 'o',\n",
       " 'o',\n",
       " 'o',\n",
       " 'o',\n",
       " 'o',\n",
       " 'o',\n",
       " 'o',\n",
       " 'o',\n",
       " 'o',\n",
       " 'o',\n",
       " 'o',\n",
       " 'o',\n",
       " 'o',\n",
       " 'o',\n",
       " 'o',\n",
       " 'o',\n",
       " 'o',\n",
       " 'o',\n",
       " 'o',\n",
       " 'o',\n",
       " 'o',\n",
       " 'o']"
      ]
     },
     "execution_count": 82,
     "metadata": {},
     "output_type": "execute_result"
    }
   ],
   "source": [
    "entities"
   ]
  },
  {
   "cell_type": "markdown",
   "id": "4dada223",
   "metadata": {},
   "source": [
    "### Using Spacy"
   ]
  },
  {
   "cell_type": "code",
   "execution_count": 84,
   "id": "5dd97f6a",
   "metadata": {},
   "outputs": [],
   "source": [
    "import spacy\n",
    "from spacy.training.iob_utils import biluo_to_iob, doc_to_biluo_tags"
   ]
  },
  {
   "cell_type": "code",
   "execution_count": 85,
   "id": "6ffc0536",
   "metadata": {},
   "outputs": [],
   "source": [
    "nlp = spacy.blank(\"en\")\n",
    "doc = nlp(txt)"
   ]
  },
  {
   "cell_type": "code",
   "execution_count": 86,
   "id": "c71941d1",
   "metadata": {},
   "outputs": [],
   "source": [
    "ents = []\n",
    "for  val in data['train'][0]['entities']:\n",
    "    start = val['offsets'][0][0]\n",
    "    end = val['offsets'][0][1]\n",
    "    span = doc.char_span(start, end, label=val['type'])\n",
    "    if span is not None:\n",
    "        ents.append(span)\n",
    "    else:\n",
    "        print(\n",
    "            \"Skipping span (does not align to tokens):\",\n",
    "            start,\n",
    "            end,\n",
    "            val['type'],\n",
    "            doc.text[start:end],\n",
    "        )"
   ]
  },
  {
   "cell_type": "code",
   "execution_count": 87,
   "id": "e31fb2eb",
   "metadata": {},
   "outputs": [
    {
     "data": {
      "text/plain": [
       "[androstanediol,\n",
       " retinol,\n",
       " retinol,\n",
       " human RDH13,\n",
       " RDH12,\n",
       " murine Rdh12,\n",
       " human RDH13,\n",
       " RDHs,\n",
       " human type 12 RDH,\n",
       " retinol dehydrogenases,\n",
       " human and murine RDH 12,\n",
       " RDH12,\n",
       " retinol dehydrogenase]"
      ]
     },
     "execution_count": 87,
     "metadata": {},
     "output_type": "execute_result"
    }
   ],
   "source": [
    "ents"
   ]
  },
  {
   "cell_type": "code",
   "execution_count": 88,
   "id": "a693402c",
   "metadata": {},
   "outputs": [],
   "source": [
    "filtered = spacy.util.filter_spans(ents)"
   ]
  },
  {
   "cell_type": "code",
   "execution_count": 89,
   "id": "c7963377",
   "metadata": {},
   "outputs": [
    {
     "data": {
      "text/plain": [
       "[RDH12,\n",
       " retinol dehydrogenase,\n",
       " retinol dehydrogenases,\n",
       " RDHs,\n",
       " human and murine RDH 12,\n",
       " human RDH13,\n",
       " RDH12,\n",
       " murine Rdh12,\n",
       " human RDH13,\n",
       " human type 12 RDH,\n",
       " androstanediol]"
      ]
     },
     "execution_count": 89,
     "metadata": {},
     "output_type": "execute_result"
    }
   ],
   "source": [
    "filtered"
   ]
  },
  {
   "cell_type": "code",
   "execution_count": 90,
   "id": "2c51acc3",
   "metadata": {},
   "outputs": [],
   "source": [
    "doc.ents = filtered"
   ]
  },
  {
   "cell_type": "code",
   "execution_count": 91,
   "id": "f801bc2a",
   "metadata": {},
   "outputs": [
    {
     "name": "stdout",
     "output_type": "stream",
     "text": [
      "RDH12 - 0 - 5 - GENE-Y - None\n",
      "retinol dehydrogenase - 9 - 30 - GENE-N - None\n",
      "retinol dehydrogenases - 115 - 137 - GENE-N - None\n",
      "RDHs - 139 - 143 - GENE-N - None\n",
      "human and murine RDH 12 - 191 - 214 - GENE-N - None\n",
      "human RDH13 - 219 - 230 - GENE-Y - None\n",
      "RDH12 - 232 - 237 - GENE-Y - None\n",
      "murine Rdh12 - 326 - 338 - GENE-Y - None\n",
      "human RDH13 - 343 - 354 - GENE-Y - None\n",
      "human type 12 RDH - 417 - 434 - GENE-Y - None\n",
      "androstanediol - 466 - 480 - CHEMICAL - None\n"
     ]
    },
    {
     "name": "stderr",
     "output_type": "stream",
     "text": [
      "/Users/mohammed.jabir/Desktop/code/env/lib/python3.9/site-packages/spacy/glossary.py:19: UserWarning: [W118] Term 'GENE-Y' not found in glossary. It may however be explained in documentation for the corpora used to train the language. Please check `nlp.meta[\"sources\"]` for any relevant links.\n",
      "  warnings.warn(Warnings.W118.format(term=term))\n",
      "/Users/mohammed.jabir/Desktop/code/env/lib/python3.9/site-packages/spacy/glossary.py:19: UserWarning: [W118] Term 'GENE-N' not found in glossary. It may however be explained in documentation for the corpora used to train the language. Please check `nlp.meta[\"sources\"]` for any relevant links.\n",
      "  warnings.warn(Warnings.W118.format(term=term))\n",
      "/Users/mohammed.jabir/Desktop/code/env/lib/python3.9/site-packages/spacy/glossary.py:19: UserWarning: [W118] Term 'CHEMICAL' not found in glossary. It may however be explained in documentation for the corpora used to train the language. Please check `nlp.meta[\"sources\"]` for any relevant links.\n",
      "  warnings.warn(Warnings.W118.format(term=term))\n"
     ]
    }
   ],
   "source": [
    "if doc.ents: \n",
    "    for ent in doc.ents: \n",
    "        print(ent.text+' - ' +str(ent.start_char) +' - '+ str(ent.end_char) +' - '+ent.label_+ ' - '+str(spacy.explain(ent.label_))) \n",
    "else: print('No named entities found.')"
   ]
  },
  {
   "cell_type": "code",
   "execution_count": 92,
   "id": "a59726e2",
   "metadata": {},
   "outputs": [
    {
     "name": "stdout",
     "output_type": "stream",
     "text": [
      "RDH12 B-GENE-Y\n",
      ", O\n",
      "a O\n",
      "retinol B-GENE-N\n",
      "dehydrogenase I-GENE-N\n",
      "causing O\n",
      "Leber O\n",
      "'s O\n",
      "congenital O\n",
      "amaurosis O\n",
      ", O\n",
      "is O\n",
      "also O\n",
      "involved O\n",
      "in O\n",
      "steroid O\n",
      "metabolism O\n",
      ". O\n",
      "Three O\n",
      "retinol B-GENE-N\n",
      "dehydrogenases I-GENE-N\n",
      "( O\n",
      "RDHs B-GENE-N\n",
      ") O\n",
      "were O\n",
      "tested O\n",
      "for O\n",
      "steroid O\n",
      "converting O\n",
      "abilities O\n",
      ": O\n",
      "human B-GENE-N\n",
      "and I-GENE-N\n",
      "murine I-GENE-N\n",
      "RDH I-GENE-N\n",
      "12 I-GENE-N\n",
      "and O\n",
      "human B-GENE-Y\n",
      "RDH13 I-GENE-Y\n",
      ". O\n",
      "RDH12 B-GENE-Y\n",
      "is O\n",
      "involved O\n",
      "in O\n",
      "retinal O\n",
      "degeneration O\n",
      "in O\n",
      "Leber O\n",
      "'s O\n",
      "congenital O\n",
      "amaurosis O\n",
      "( O\n",
      "LCA O\n",
      ") O\n",
      ". O\n",
      "We O\n",
      "show O\n",
      "that O\n",
      "murine B-GENE-Y\n",
      "Rdh12 I-GENE-Y\n",
      "and O\n",
      "human B-GENE-Y\n",
      "RDH13 I-GENE-Y\n",
      "do O\n",
      "not O\n",
      "reveal O\n",
      "activity O\n",
      "towards O\n",
      "the O\n",
      "checked O\n",
      "steroids O\n",
      ", O\n",
      "but O\n",
      "that O\n",
      "human B-GENE-Y\n",
      "type I-GENE-Y\n",
      "12 I-GENE-Y\n",
      "RDH I-GENE-Y\n",
      "reduces O\n",
      "dihydrotestosterone O\n",
      "to O\n",
      "androstanediol B-CHEMICAL\n",
      ", O\n",
      "and O\n",
      "is O\n",
      "thus O\n",
      "also O\n",
      "involved O\n",
      "in O\n",
      "steroid O\n",
      "metabolism O\n",
      ". O\n",
      "Furthermore O\n",
      ", O\n",
      "we O\n",
      "analyzed O\n",
      "both O\n",
      "expression O\n",
      "and O\n",
      "subcellular O\n",
      "localization O\n",
      "of O\n",
      "these O\n",
      "enzymes O\n",
      ". O\n"
     ]
    }
   ],
   "source": [
    "for token, iob_tag in zip(doc, biluo_to_iob(doc_to_biluo_tags(doc))):\n",
    "    print(token.text + \" \" + iob_tag)"
   ]
  },
  {
   "cell_type": "code",
   "execution_count": null,
   "id": "2ad72434",
   "metadata": {},
   "outputs": [],
   "source": []
  }
 ],
 "metadata": {
  "kernelspec": {
   "display_name": "Python 3 (ipykernel)",
   "language": "python",
   "name": "python3"
  },
  "language_info": {
   "codemirror_mode": {
    "name": "ipython",
    "version": 3
   },
   "file_extension": ".py",
   "mimetype": "text/x-python",
   "name": "python",
   "nbconvert_exporter": "python",
   "pygments_lexer": "ipython3",
   "version": "3.9.6"
  }
 },
 "nbformat": 4,
 "nbformat_minor": 5
}
